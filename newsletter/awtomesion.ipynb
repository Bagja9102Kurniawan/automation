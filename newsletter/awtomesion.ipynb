{
  "nbformat": 4,
  "nbformat_minor": 0,
  "metadata": {
    "colab": {
      "name": "awtomesion.ipynb",
      "provenance": []
    },
    "kernelspec": {
      "name": "python3",
      "display_name": "Python 3"
    },
    "language_info": {
      "name": "python"
    }
  },
  "cells": [
    {
      "cell_type": "code",
      "source": [
        "# importing datetime module for now() \n",
        "import datetime \n",
        "from calendar import Calendar"
      ],
      "metadata": {
        "id": "7uuCruF17Bwh"
      },
      "execution_count": 6,
      "outputs": []
    },
    {
      "cell_type": "code",
      "source": [
        "obj = calendar.Calendar()\n",
        " \n",
        "# iterating with itermonthdates\n",
        "for day in obj.itermonthdates(2022, 1):\n",
        "    print(day)"
      ],
      "metadata": {
        "colab": {
          "base_uri": "https://localhost:8080/"
        },
        "id": "fzf_Ira57nKv",
        "outputId": "e07f6149-05e9-43d4-e9a3-2150aa074f9c"
      },
      "execution_count": 12,
      "outputs": [
        {
          "output_type": "stream",
          "name": "stdout",
          "text": [
            "2021-12-27\n",
            "2021-12-28\n",
            "2021-12-29\n",
            "2021-12-30\n",
            "2021-12-31\n",
            "2022-01-01\n",
            "2022-01-02\n",
            "2022-01-03\n",
            "2022-01-04\n",
            "2022-01-05\n",
            "2022-01-06\n",
            "2022-01-07\n",
            "2022-01-08\n",
            "2022-01-09\n",
            "2022-01-10\n",
            "2022-01-11\n",
            "2022-01-12\n",
            "2022-01-13\n",
            "2022-01-14\n",
            "2022-01-15\n",
            "2022-01-16\n",
            "2022-01-17\n",
            "2022-01-18\n",
            "2022-01-19\n",
            "2022-01-20\n",
            "2022-01-21\n",
            "2022-01-22\n",
            "2022-01-23\n",
            "2022-01-24\n",
            "2022-01-25\n",
            "2022-01-26\n",
            "2022-01-27\n",
            "2022-01-28\n",
            "2022-01-29\n",
            "2022-01-30\n",
            "2022-01-31\n",
            "2022-02-01\n",
            "2022-02-02\n",
            "2022-02-03\n",
            "2022-02-04\n",
            "2022-02-05\n",
            "2022-02-06\n"
          ]
        }
      ]
    },
    {
      "cell_type": "code",
      "source": [
        ""
      ],
      "metadata": {
        "id": "HprzUzb3AVnU"
      },
      "execution_count": null,
      "outputs": []
    }
  ]
}